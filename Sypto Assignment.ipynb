{
 "cells": [
  {
   "cell_type": "code",
   "execution_count": 1,
   "id": "9ac3648a-6d88-4168-82ab-87c493f3f610",
   "metadata": {},
   "outputs": [],
   "source": [
    "import pandas as pd\n",
    "\n",
    "# Load Angel One\n",
    "angel_one_df = pd.read_csv('C:/Users/AHVINAV/ML-Python/Sypto/Angel one.csv',low_memory=False)\n",
    "\n",
    "# Load ICICI\n",
    "icici_df = pd.read_csv('C:/Users/AHVINAV/ML-Python/Sypto/icici.csv',low_memory=False)\n",
    "\n",
    "# Load Kotak files\n",
    "kotak_cash_df = pd.read_csv('C:/Users/AHVINAV/ML-Python/Sypto/Kotak Cash.csv',low_memory=False)\n",
    "kotak_fno_df = pd.read_csv('C:/Users/AHVINAV/ML-Python/Sypto/Kotak FNO.csv')\n",
    "\n",
    "# Load Zerodha\n",
    "zerodha_df = pd.read_csv('C:/Users/AHVINAV/ML-Python/Sypto/zerodha.csv',low_memory=False)\n",
    "\n",
    "# Load Fyers files\n",
    "\n",
    "fyers_BSE_CM = pd.read_csv('C:/Users/AHVINAV/ML-Python/Sypto/Fyers BSE_CM.csv',low_memory=False)\n",
    "fyers_MCX_COM = pd.read_csv('C:/Users/AHVINAV/ML-Python/Sypto/Fyers MCX_COM.csv',low_memory=False)\n",
    "fyers_NSE_CD = pd.read_csv('C:/Users/AHVINAV/ML-Python/Sypto/Fyers NSE_CD.csv',low_memory=False)\n",
    "fyers_NSE_CM = pd.read_csv('C:/Users/AHVINAV/ML-Python/Sypto/Fyers NSE_CM.csv',low_memory=False)\n",
    "fyers_NSE_FO = pd.read_csv('C:/Users/AHVINAV/ML-Python/Sypto/Fyers NSE_FO.csv',low_memory=False)"
   ]
  },
  {
   "cell_type": "code",
   "execution_count": 2,
   "id": "444be08a-5fb7-483d-839d-15a1fa0b87cb",
   "metadata": {},
   "outputs": [],
   "source": [
    "# Combine Fyers files into one DataFrame\n",
    "fyers_combined = pd.concat([fyers_BSE_CM, fyers_MCX_COM, fyers_NSE_CD, fyers_NSE_CM, fyers_NSE_FO], ignore_index=True)\n",
    "\n",
    "# Combine Kotak files into one DataFrame\n",
    "kotak_combined = pd.concat([kotak_cash_df, kotak_fno_df], ignore_index=True)"
   ]
  },
  {
   "cell_type": "code",
   "execution_count": 3,
   "id": "36ce1901-84cf-443f-83e7-bfce51b57372",
   "metadata": {},
   "outputs": [],
   "source": [
    "# Standardize column names by stripping spaces and converting to lower case\n",
    "def standardize_columns(df):\n",
    "    df.columns = df.columns.str.strip().str.lower()\n",
    "    return df\n",
    "\n",
    "angel_one_df = standardize_columns(angel_one_df)\n",
    "icici_df = standardize_columns(icici_df)\n",
    "kotak_combined = standardize_columns(kotak_combined)\n",
    "zerodha_df = standardize_columns(zerodha_df)\n",
    "fyers_combined  = standardize_columns(kotak_combined)\n"
   ]
  },
  {
   "cell_type": "code",
   "execution_count": 4,
   "id": "be77787d-23dd-4de4-9070-1fa122194b72",
   "metadata": {},
   "outputs": [],
   "source": [
    "# Remove Duplicates\n",
    "angel_one_df.drop_duplicates(inplace=True)\n",
    "icici_df.drop_duplicates(inplace=True)\n",
    "kotak_combined.drop_duplicates(inplace=True)\n",
    "zerodha_df.drop_duplicates(inplace=True)\n",
    "fyers_combined.drop_duplicates(inplace=True)"
   ]
  },
  {
   "cell_type": "code",
   "execution_count": 5,
   "id": "01426cc4-b025-4c72-8bb9-e3faa1f95291",
   "metadata": {},
   "outputs": [],
   "source": [
    "# Create dictionaries to map 'instrumentName' to 'tradingsymbol' or 'name' for each table\n",
    "angel_one_tradingsymbol_map = dict(zip(angel_one_df['instrumentname'],angel_one_df['tradingsymbol']))\n",
    "icici_tradingsymbol_map = dict(zip(icici_df['instrumentname'],icici_df['name']))\n",
    "fyers_tradingsymbol_map = dict(zip(fyers_combined['instrumentname'],fyers_combined['name']))\n",
    "kotak_tradingsymbol_map = dict(zip(kotak_combined['instrumentname'],kotak_combined['name']))\n",
    "zerodha_tradingsymbol_map = dict(zip(zerodha_df['instrumentname'],zerodha_df['tradingsymbol']))\n",
    "\n",
    "# Get a unique list of 'instrumentname' values from all tables\n",
    "instrument_names = set(angel_one_df['instrumentname']).union(set(icici_df['instrumentname'])).union(set(fyers_combined['instrumentname'])).union(set(kotak_combined['instrumentname'])).union(set(zerodha_df['instrumentname']))\n",
    "\n",
    "\n",
    "# Construct the final DataFrame using mappings\n",
    "result = pd.DataFrame({\n",
    "    'instrumentname': list(instrument_names),\n",
    "    'angel_one_tradingsymbol': [angel_one_tradingsymbol_map.get(tradingsymbol) for tradingsymbol in instrument_names],\n",
    "    'icici_tradingsymbol': [icici_tradingsymbol_map.get(name) for name in instrument_names],\n",
    "    'fyers_tradingsymbol': [fyers_tradingsymbol_map.get(name) for name in instrument_names],\n",
    "    'kotak_tradingsymbol': [kotak_tradingsymbol_map.get(name) for name in instrument_names],\n",
    "    'zerodha_tradingsymbol': [zerodha_tradingsymbol_map.get(tradingsymbol) for tradingsymbol in instrument_names]\n",
    "})\n"
   ]
  },
  {
   "cell_type": "code",
   "execution_count": 6,
   "id": "d4b7ff32-b2c1-4067-8eda-92e7e1de6717",
   "metadata": {},
   "outputs": [],
   "source": [
    "# Remove Duplicates from Combined Data\n",
    "result.drop_duplicates(inplace=True)"
   ]
  },
  {
   "cell_type": "code",
   "execution_count": 7,
   "id": "f0c3bd5e-8c21-47f4-8924-7ddd98882c4a",
   "metadata": {
    "scrolled": true
   },
   "outputs": [
    {
     "name": "stdout",
     "output_type": "stream",
     "text": [
      "final dataset saved successfully!\n"
     ]
    }
   ],
   "source": [
    "result.to_csv('final_stock_data.csv', index=False)\n",
    "print(\"final dataset saved successfully!\")\n"
   ]
  }
 ],
 "metadata": {
  "kernelspec": {
   "display_name": "Python 3 (ipykernel)",
   "language": "python",
   "name": "python3"
  },
  "language_info": {
   "codemirror_mode": {
    "name": "ipython",
    "version": 3
   },
   "file_extension": ".py",
   "mimetype": "text/x-python",
   "name": "python",
   "nbconvert_exporter": "python",
   "pygments_lexer": "ipython3",
   "version": "3.12.4"
  }
 },
 "nbformat": 4,
 "nbformat_minor": 5
}
